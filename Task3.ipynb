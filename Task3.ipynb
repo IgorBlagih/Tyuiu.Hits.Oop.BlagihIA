{
 "cells": [
  {
   "cell_type": "markdown",
   "metadata": {},
   "source": [
    "<h1 style=\"color:DodgerBlue\">Индивидальный проект</h1>"
   ]
  },
  {
   "cell_type": "markdown",
   "metadata": {},
   "source": [
    "<h2 style=\"color:DodgerBlue\">Название проекта:</h2>\n",
    "\n",
    "----\n",
    "\n",
    "### Вариант задания №4\n"
   ]
  },
  {
   "cell_type": "markdown",
   "metadata": {},
   "source": [
    "<h2 style=\"color:DodgerBlue\">Описание проекта:</h2>\n",
    "\n",
    "----\n",
    "\n",
    "Создать базовый класс Product в C#, который будет представлять информацию о\n",
    "продуктах. На основе этого класса разработать 2-3 производных класса,\n",
    "демонстрирующих принципы наследования и полиморфизма. В каждом из классов\n",
    "должны быть реализованы новые атрибуты и методы, а также переопределены\n",
    "некоторые методы базового класса для демонстрации полиморфизма.\n"
   ]
  },
  {
   "cell_type": "markdown",
   "metadata": {},
   "source": [
    "<h2 style=\"color:DodgerBlue\">Реализация:</h2>\n",
    "\n",
    "----"
   ]
  },
  {
   "cell_type": "code",
   "execution_count": null,
   "metadata": {
    "dotnet_interactive": {
     "language": "csharp"
    },
    "polyglot_notebook": {
     "kernelName": "csharp"
    }
   },
   "outputs": [
    {
     "name": "stdout",
     "output_type": "stream",
     "text": [
      "Display\n",
      "Название: Ноутбук, Цена: 50000 руб., Производитель: Lenovo, Гарантия: 24 мес.\n",
      "Одежда: Футболка, Размер: L, Цена: 1500 руб., Производитель: Nike\n",
      "Книга: Война и мир, Автор: Лев Толстой, Цена: 800 руб., Издательство: Эксмо\n",
      "\n",
      "GetInfo\n",
      "Название: Ноутбук, Цена: 50000 руб., Производитель: Lenovo, Гарантия: 24 мес.\n",
      "Название: Футболка, Цена: 1500 руб., Производитель: Nike, Размер: L\n",
      "Книга: Война и мир, Автор: Лев Толстой, Цена: 800 руб., Издательство: Эксмо\n",
      "\n",
      "Discount\n",
      "Для товара с гарантией 24 мес. максимальная скидка 18%\n",
      "Применена скидка 18%. Новая цена: 41000 руб.\n",
      "Применена скидка 15%. Новая цена: 1275 руб.\n",
      "Применена скидка 10%. Новая цена: 720 руб.\n",
      "\n",
      "Display после скидок\n",
      "Название: Ноутбук, Цена: 41000 руб., Производитель: Lenovo, Гарантия: 24 мес.\n",
      "Одежда: Футболка, Размер: L, Цена: 1275 руб., Производитель: Nike\n",
      "Книга: Война и мир, Автор: Лев Толстой, Цена: 720 руб., Издательство: Эксмо\n"
     ]
    }
   ],
   "source": [
    "using System;\n",
    "\n",
    "// Базовый класс Product\n",
    "public class Product\n",
    "{\n",
    "    public string Name;\n",
    "    public double Price;\n",
    "    public string Manufacturer;\n",
    "\n",
    "    public virtual string GetInfo()\n",
    "    {\n",
    "        return $\"Название: {this.Name}, Цена: {this.Price} руб., Производитель: {this.Manufacturer}\";\n",
    "    }\n",
    "\n",
    "    public virtual void Discount(double disPer)\n",
    "    {\n",
    "        if (disPer > 0 && disPer <= 100)\n",
    "        {\n",
    "            this.Price -= this.Price * (disPer / 100);\n",
    "            Console.WriteLine($\"Применена скидка {disPer}%. Новая цена: {this.Price} руб.\");\n",
    "        }\n",
    "    }\n",
    "\n",
    "    public virtual void Display()\n",
    "    {\n",
    "        Console.WriteLine(this.GetInfo());\n",
    "    }\n",
    "}\n",
    "\n",
    "// Производный класс Electronics\n",
    "public class Electronics : Product\n",
    "{\n",
    "    public int WarrantyPeriod;\n",
    "\n",
    "    public override void Discount(double disPer)\n",
    "    {\n",
    "        // Учет гарантийного срока\n",
    "        double maxDis = 30 - (this.WarrantyPeriod / 2); //30(базовая скидка) - гар.срок деленный на двое\n",
    "        if (maxDis < 5) maxDis = 5;\n",
    "        \n",
    "        if (disPer > maxDis)\n",
    "        {\n",
    "            Console.WriteLine($\"Для товара с гарантией {this.WarrantyPeriod} мес. максимальная скидка {maxDis}%\");\n",
    "            disPer = maxDis;\n",
    "        }\n",
    "        \n",
    "        base.Discount(disPer);\n",
    "    }\n",
    "\n",
    "    public override string GetInfo()\n",
    "    {\n",
    "        return base.GetInfo() + $\", Гарантия: {this.WarrantyPeriod} мес.\";\n",
    "    }\n",
    "}\n",
    "\n",
    "// Производный класс Clothing\n",
    "public class Clothing : Product\n",
    "{\n",
    "    public string Size;\n",
    "\n",
    "    public override void Display()\n",
    "    {\n",
    "        Console.WriteLine($\"Одежда: {this.Name}, Размер: {this.Size}, Цена: {this.Price} руб., Производитель: {this.Manufacturer}\");\n",
    "    }\n",
    "\n",
    "    public override string GetInfo()\n",
    "    {\n",
    "        return base.GetInfo() + $\", Размер: {this.Size}\";\n",
    "    }\n",
    "}\n",
    "\n",
    "// Производный класс Books\n",
    "public class Books : Product\n",
    "{\n",
    "    public string Author;\n",
    "\n",
    "    public override string GetInfo()\n",
    "    {\n",
    "        return $\"Книга: {this.Name}, Автор: {this.Author}, Цена: {this.Price} руб., Издательство: {this.Manufacturer}\";\n",
    "    }\n",
    "}\n",
    "\n",
    "/// Продукты\n",
    "Product myProduct1 = new Electronics();\n",
    "myProduct1.Name = \"Ноутбук\";\n",
    "myProduct1.Price = 50000;\n",
    "myProduct1.Manufacturer = \"Lenovo\";\n",
    "((Electronics)myProduct1).WarrantyPeriod = 24;\n",
    "\n",
    "Product myProduct2 = new Clothing();\n",
    "myProduct2.Name = \"Футболка\";\n",
    "myProduct2.Price = 1500;\n",
    "myProduct2.Manufacturer = \"Nike\";\n",
    "((Clothing)myProduct2).Size = \"L\";\n",
    "\n",
    "Product myProduct3 = new Books();\n",
    "myProduct3.Name = \"Война и мир\";\n",
    "myProduct3.Price = 800;\n",
    "myProduct3.Manufacturer = \"Эксмо\";\n",
    "((Books)myProduct3).Author = \"Лев Толстой\";\n",
    "\n",
    "/// Методы\n",
    "Console.WriteLine(\"Display\");\n",
    "myProduct1.Display();\n",
    "myProduct2.Display();\n",
    "myProduct3.Display();\n",
    "\n",
    "Console.WriteLine(\"\\nGetInfo\");\n",
    "Console.WriteLine(myProduct1.GetInfo());\n",
    "Console.WriteLine(myProduct2.GetInfo());\n",
    "Console.WriteLine(myProduct3.GetInfo());\n",
    "\n",
    "Console.WriteLine(\"\\nDiscount\");\n",
    "myProduct1.Discount(25);\n",
    "myProduct2.Discount(15);\n",
    "myProduct3.Discount(10);\n",
    "\n",
    "Console.WriteLine(\"\\nDisplay после скидок\");\n",
    "myProduct1.Display();\n",
    "myProduct2.Display();\n",
    "myProduct3.Display();"
   ]
  }
 ],
 "metadata": {
  "kernelspec": {
   "display_name": ".NET (C#)",
   "language": "C#",
   "name": ".net-csharp"
  },
  "polyglot_notebook": {
   "kernelInfo": {
    "defaultKernelName": "csharp",
    "items": [
     {
      "aliases": [],
      "languageName": "csharp",
      "name": "csharp"
     }
    ]
   }
  }
 },
 "nbformat": 4,
 "nbformat_minor": 2
}
